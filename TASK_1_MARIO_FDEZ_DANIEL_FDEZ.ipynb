{
  "nbformat": 4,
  "nbformat_minor": 0,
  "metadata": {
    "colab": {
      "name": "TASK_1_MARIO_FDEZ_DANIEL_FDEZ.ipynb",
      "provenance": [],
      "include_colab_link": true
    },
    "kernelspec": {
      "name": "ir",
      "display_name": "R"
    },
    "language_info": {
      "name": "R"
    }
  },
  "cells": [
    {
      "cell_type": "markdown",
      "metadata": {
        "id": "view-in-github",
        "colab_type": "text"
      },
      "source": [
        "<a href=\"https://colab.research.google.com/github/danielfdezlopez8/Programming-in-R/blob/main/TASK_1_MARIO_FDEZ_DANIEL_FDEZ.ipynb\" target=\"_parent\"><img src=\"https://colab.research.google.com/assets/colab-badge.svg\" alt=\"Open In Colab\"/></a>"
      ]
    },
    {
      "cell_type": "markdown",
      "metadata": {
        "id": "yrrfbhAfim-4"
      },
      "source": [
        "#**TASK 1**\n",
        "#####Mario Fernández Ruiz, Daniel Fernández López"
      ]
    },
    {
      "cell_type": "markdown",
      "metadata": {
        "id": "hPPhEHRDmbzr"
      },
      "source": [
        "## **CONTENTS**\n",
        " \n",
        "  1. [Introduction](#Introduction)\n",
        "\n",
        "    1.1. [Preview](#preview)\n",
        "    \n",
        "    1.2. [How to work with it?](#commands)\n",
        "      \n",
        "    1.3. [Historical background](#background)\n",
        "\n",
        "\n",
        "  2. [Examples](#examples) \n",
        "\n",
        "    2.1. [General code](#code)\n",
        "\n",
        "    2.2. [Images](#images)"
      ]
    },
    {
      "cell_type": "markdown",
      "metadata": {
        "id": "xxOenenHnm3N"
      },
      "source": [
        "<a id=\"Introduction\"><a/>\n",
        "## 1.Introduction\n",
        "<a id=\"preview\"><a/>\n",
        "### 1.1.Preview"
      ]
    },
    {
      "cell_type": "markdown",
      "metadata": {
        "id": "Fkn7jgxPjVbr"
      },
      "source": [
        "Colaboratory, or 'Colab' for short, is a product from Google Research. Colab allows anybody to write and execute arbitrary Python code through the browser, and is especially well suited to machine learning, data analysis and education. It provides the user the user with an easy and agile tool to perform calculation, implement code and visualize results in a web enviroment. A notebook is organized in cells, ie. a unit of text or code that can be run.\n",
        "* Type **Cmd/Ctrl+Enter** to run the cell in place;\n",
        "* Type **Shift+Enter** to run the cell and move focus to the next cell (adding one if none exists); or\n",
        "* Type **Alt+Enter** to run the cell and insert a new code cell immediately below it.\n",
        "\n",
        "The user can add new cells typing **b**(below) or **a**(above), depending on where it is needed. In case some cell might want to be deleted, just type **Ctrl + MD**"
      ]
    },
    {
      "cell_type": "code",
      "metadata": {
        "id": "RWgerHkYlZfl"
      },
      "source": [
        ""
      ],
      "execution_count": null,
      "outputs": []
    }
  ]
}